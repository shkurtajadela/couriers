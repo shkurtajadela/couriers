{
 "cells": [
  {
   "cell_type": "code",
   "execution_count": 4,
   "metadata": {},
   "outputs": [],
   "source": [
    "import pandas as pd\n",
    "df=pd.read_excel('../data/ТТ.xlsx')\n",
    "filtered_df=df[(df['tt_format_rasp']==700) & (df['is_active']==1) & ((df['region_tt']=='Москва') | (df['region_tt']=='Московская область') )]"
   ]
  },
  {
   "cell_type": "code",
   "execution_count": 10,
   "metadata": {},
   "outputs": [
    {
     "data": {
      "text/plain": [
       "Index(['N', 'id_TT', 'type_tt', 'name_TT', 'is_active', 'tt_format',\n",
       "       'id_group', 'plan', 'id_ul', 'adress', 'nomer_tel', 'nomer_tel2', 'Ref',\n",
       "       'Shirota', 'Dolgota', 'type_VV', 'NeedPhotoForOpeartions',\n",
       "       'ТорговаяПлощадь', 'PriemkaBezPerescheta', 'Hours', 'Date_Open',\n",
       "       'Статус', 'kids_room', 'id_tt_web', 'Date_Close', 'PublishContacts',\n",
       "       'region_tt', 'id_region_tt', 'instamart', 'savetime', 'fresh_juice',\n",
       "       'coffee', 'bakery', 'job_interview', 'ДатаПродажиПервойТысячиРублей',\n",
       "       'TT_UID', 'isTrainingShop', 'ЕстьСамовесы', 'НеУчаствуетВРаспределении',\n",
       "       'city_tt', 'tt_format_rasp', 'osn_sklad', 'НомерТелеграм', 'HasTSD',\n",
       "       'Ночной', 'Район', 'ЗаПределамиМКАД', 'fact_adress', 'offset', 'isDark',\n",
       "       'isGrey', 'Тип', 'Направление', 'night_withOut_seller',\n",
       "       'night_withOut_seller_date'],\n",
       "      dtype='object')"
      ]
     },
     "execution_count": 10,
     "metadata": {},
     "output_type": "execute_result"
    }
   ],
   "source": [
    "filtered_df.columns"
   ]
  },
  {
   "cell_type": "code",
   "execution_count": 14,
   "metadata": {},
   "outputs": [],
   "source": [
    "df_final=pd.DataFrame()\n",
    "df_final['N']=filtered_df['N']\n",
    "df_final['name_TT']=filtered_df['name_TT']\n",
    "df_final['city_tt']=filtered_df['city_tt']\n",
    "df_final['region_tt']=filtered_df['region_tt']\n",
    "df_final.to_csv('../data/DS_M_MO.csv')"
   ]
  }
 ],
 "metadata": {
  "kernelspec": {
   "display_name": "Python 3",
   "language": "python",
   "name": "python3"
  },
  "language_info": {
   "codemirror_mode": {
    "name": "ipython",
    "version": 3
   },
   "file_extension": ".py",
   "mimetype": "text/x-python",
   "name": "python",
   "nbconvert_exporter": "python",
   "pygments_lexer": "ipython3",
   "version": "3.11.2"
  }
 },
 "nbformat": 4,
 "nbformat_minor": 2
}

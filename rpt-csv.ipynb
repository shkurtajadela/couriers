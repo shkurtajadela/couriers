{
 "cells": [
  {
   "cell_type": "code",
   "execution_count": 45,
   "metadata": {},
   "outputs": [
    {
     "name": "stdout",
     "output_type": "stream",
     "text": [
      "Файл csv/07-08.csv успешно создан.\n"
     ]
    }
   ],
   "source": [
    "import pandas as pd\n",
    "\n",
    "\n",
    "# Функция для обработки файла с фиксированной шириной столбцов и сохранения в CSV\n",
    "def convert_rpt_to_csv(input_file, output_file, chunk_size=100000):\n",
    "    \"\"\"\n",
    "    Конвертирует файл .rpt в CSV, используя фиксированные ширины столбцов.\n",
    "    \n",
    "    Parameters:\n",
    "    input_file (str): Путь к исходному файлу .rpt.\n",
    "    output_file (str): Путь к выходному файлу .csv.\n",
    "    chunk_size (int): Количество строк, которые обрабатываются за один раз.\n",
    "    \"\"\"\n",
    "    \n",
    "    # Определение ширин столбцов (примерные данные, которые нужно подстроить под структуру файла)\n",
    "    colspecs = [\n",
    "        (0, 20), # id_pool \n",
    "        (20, 32),  # id_courier\n",
    "        (32, 55),  # courier_type\n",
    "        (55, 76),  # id_job\n",
    "        (76, 100),  # pool_date_start\n",
    "        (100, 112),  # sort_order\n",
    "        (112, 133),  # id_general\n",
    "        (133, 147),  # distance\n",
    "        (147, 198),  # status_str\n",
    "        (198, 223),  # date_status\n",
    "        (223, 234), # id_general.1\n",
    "        (234, 275),  # total_order_weight\n",
    "        (275, 288), # total_orders\n",
    "        (288, 311), # first_date_order\n",
    "        (311, 335), # last_date_order\n",
    "        (335, 360),  # date_supply\n",
    "        (360, 383),  # date_supply_untill\n",
    "        (383, 408),  # date_collected\n",
    "        (408, 431),  # date_delivery_start\n",
    "        (431, 455),  # date_delivered\n",
    "        (455, 467),  # id_courier.1\n",
    "        (467, 479),  # id_service\n",
    "        (479, 490),  # id_source\n",
    "        (490, 530),  # latitude_order \n",
    "        (530, 570),  # longitude_order\n",
    "        (570, 610),  # N\n",
    "        (610, 650),  # shirota\n",
    "        (650, 690),  # dolgota\n",
    "        (690, 705)   # gen_distance\n",
    "    ]\n",
    "\n",
    "    # Итеративное чтение файла кусками для экономии памяти\n",
    "    for chunk in pd.read_fwf(input_file, colspecs=colspecs, chunksize=chunk_size):\n",
    "        # Сохраняем куски в CSV по мере обработки\n",
    "        # chunk = chunk[~chunk['id_order'].str.contains(\"[-]+\")]\n",
    "        chunk.to_csv(output_file, mode='a', header=not pd.io.common.file_exists(output_file), index=False, encoding='utf-8')\n",
    "    # df = pd.read_fwf(input_file, colspecs=colspecs, nrows=50)\n",
    "    # # df = df[~df['id_order'].str.contains(\"[-]+\")]\n",
    "    # # Сохранение в CSV\n",
    "    # df.to_csv(output_file, index=False, encoding='utf-8')\n",
    "    print(f\"Файл {output_file} успешно создан.\")\n",
    "\n",
    "# Пример использования:\n",
    "input_file = 'rpt/07-08.rpt'\n",
    "# input_file = '../rpt_csv/rpt/заказы_12.2023-01.2024.rpt'\n",
    "output_file = 'csv/07-08.csv'\n",
    "# output_file = 'заказы_08-10.2024.csv'\n",
    "convert_rpt_to_csv(input_file, output_file)\n"
   ]
  },
  {
   "cell_type": "markdown",
   "metadata": {},
   "source": [
    "### нахождение границ"
   ]
  },
  {
   "cell_type": "code",
   "execution_count": 43,
   "metadata": {},
   "outputs": [
    {
     "name": "stdout",
     "output_type": "stream",
     "text": [
      "Файл csv/07-08.csv успешно создан.\n"
     ]
    }
   ],
   "source": [
    "import pandas as pd\n",
    "\n",
    "# Чтение первых 10 строк из файла с разделителем табуляция ('\\t') или пробел (' ')\n",
    "# Попробуйте сначала '\\t', если это не сработает, замените на ' ' (пробел)\n",
    "df = pd.read_csv('rpt/07-08.rpt', sep='\\t', engine='python', nrows=1000)\n",
    "\n",
    "# Сохранение первых 10 строк в CSV\n",
    "df.to_csv('output_first_10_rows.csv', index=False, encoding='utf-8')\n",
    "\n",
    "print(\"Первые 10 строк успешно преобразованы в CSV.\")\n"
   ]
  },
  {
   "cell_type": "code",
   "execution_count": 6,
   "metadata": {},
   "outputs": [
    {
     "name": "stdout",
     "output_type": "stream",
     "text": [
      "20 20\n",
      "11 31\n",
      "22 53\n",
      "20 73\n",
      "23 96\n",
      "11 107\n",
      "20 127\n",
      "13 140\n",
      "50 190\n",
      "23 213\n",
      "11 224\n",
      "39 263\n",
      "12 275\n",
      "23 298\n",
      "23 321\n",
      "23 344\n",
      "23 367\n",
      "23 390\n",
      "23 413\n",
      "23 436\n",
      "11 447\n",
      "10 457\n",
      "11 468\n",
      "39 507\n",
      "39 546\n",
      "39 585\n",
      "39 624\n",
      "39 663\n",
      "13 676\n"
     ]
    }
   ],
   "source": [
    "strg = '-------------------- ----------- ---------------------- -------------------- ----------------------- ----------- -------------------- ------------- -------------------------------------------------- ----------------------- ----------- --------------------------------------- ------------ ----------------------- ----------------------- ----------------------- ----------------------- ----------------------- ----------------------- ----------------------- ----------- ---------- ----------- --------------------------------------- --------------------------------------- --------------------------------------- --------------------------------------- --------------------------------------- -------------'\n",
    "lis_ = strg.split(' ')\n",
    "s = 0\n",
    "for _ in lis_:\n",
    "    s = s + len(_)\n",
    "    print(len(_), s)"
   ]
  },
  {
   "cell_type": "code",
   "execution_count": 37,
   "metadata": {},
   "outputs": [
    {
     "name": "stdout",
     "output_type": "stream",
     "text": [
      "39\n"
     ]
    }
   ],
   "source": [
    "print(len('---------------------------------------'))"
   ]
  }
 ],
 "metadata": {
  "kernelspec": {
   "display_name": "Python 3",
   "language": "python",
   "name": "python3"
  },
  "language_info": {
   "codemirror_mode": {
    "name": "ipython",
    "version": 3
   },
   "file_extension": ".py",
   "mimetype": "text/x-python",
   "name": "python",
   "nbconvert_exporter": "python",
   "pygments_lexer": "ipython3",
   "version": "3.9.6"
  }
 },
 "nbformat": 4,
 "nbformat_minor": 2
}
